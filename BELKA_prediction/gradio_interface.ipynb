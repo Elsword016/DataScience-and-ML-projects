{
 "cells": [
  {
   "cell_type": "code",
   "execution_count": 5,
   "metadata": {},
   "outputs": [],
   "source": [
    "import gradio as gr\n",
    "import numpy as np \n",
    "import torch\n",
    "from transformers import BertTokenizerFast,BertForSequenceClassification"
   ]
  },
  {
   "cell_type": "code",
   "execution_count": 6,
   "metadata": {},
   "outputs": [],
   "source": [
    "def load_model(checkpoint_path):\n",
    "    tokenizer = BertTokenizerFast.from_pretrained(checkpoint_path)\n",
    "    model =  BertForSequenceClassification.from_pretrained(checkpoint_path)\n",
    "    model.eval();\n",
    "    return model, tokenizer"
   ]
  },
  {
   "cell_type": "code",
   "execution_count": 14,
   "metadata": {},
   "outputs": [],
   "source": [
    "def predict_binding(smiles,protein_name):\n",
    "    text = f'{smiles} [SEP] {protein_name}'\n",
    "    tokens = tokenizer(text, truncation=True,return_tensors=\"pt\")\n",
    "    with torch.no_grad():\n",
    "        logits = model(**tokens).logits\n",
    "    predicted_class_id = logits.argmax().item()\n",
    "    class_name = model.config.id2label[predicted_class_id]\n",
    "    score = logits.softmax(dim=1).max().item()\n",
    "    return class_name, score"
   ]
  },
  {
   "cell_type": "code",
   "execution_count": 8,
   "metadata": {},
   "outputs": [],
   "source": [
    "model,tokenizer = load_model(\"Belka-BERT\\checkpoint-12000\")"
   ]
  },
  {
   "cell_type": "code",
   "execution_count": 15,
   "metadata": {},
   "outputs": [],
   "source": [
    "example_smile = 'C#CCCC[C@H](Nc1nc(Nc2ccc(C=C)cc2)nc(Nc2ccc(C=C)cc2)n1)C(=O)N[Dy]'\n",
    "example_protein = 'BRD4' \n",
    "\n",
    "pred,score = predict_binding(example_smile,example_protein)\n"
   ]
  },
  {
   "cell_type": "code",
   "execution_count": 16,
   "metadata": {},
   "outputs": [
    {
     "name": "stdout",
     "output_type": "stream",
     "text": [
      "No bind\n",
      "0.9229413866996765\n"
     ]
    }
   ],
   "source": [
    "print(pred)\n",
    "print(score)"
   ]
  },
  {
   "cell_type": "code",
   "execution_count": 17,
   "metadata": {},
   "outputs": [],
   "source": [
    "def gradio_interface(smiles, protein):\n",
    "    prediction,scores = predict_binding(smiles, protein)\n",
    "    return prediction, scores"
   ]
  },
  {
   "cell_type": "code",
   "execution_count": 23,
   "metadata": {},
   "outputs": [
    {
     "name": "stdout",
     "output_type": "stream",
     "text": [
      "IMPORTANT: You are using gradio version 3.48.0, however version 4.29.0 is available, please upgrade.\n",
      "--------\n"
     ]
    }
   ],
   "source": [
    "iface = gr.Interface(\n",
    "    fn=gradio_interface,\n",
    "    inputs=[gr.Textbox(label=\"SMILES String\"), gr.Textbox(label=\"Protein Name\")],\n",
    "    outputs=[gr.Label(label=\"Binding Prediction\"), gr.Label(label=\"Confidence Score\")],\n",
    "    title=\"Protein-Molecule Binding Prediction\",\n",
    "    description=\"Predicts whether a molecule will bind to a protein.\"   \n",
    ")"
   ]
  },
  {
   "cell_type": "code",
   "execution_count": 24,
   "metadata": {},
   "outputs": [
    {
     "name": "stdout",
     "output_type": "stream",
     "text": [
      "Running on local URL:  http://127.0.0.1:7860\n",
      "Running on public URL: https://279ab9b621df636972.gradio.live\n",
      "\n",
      "This share link expires in 72 hours. For free permanent hosting and GPU upgrades, run `gradio deploy` from Terminal to deploy to Spaces (https://huggingface.co/spaces)\n"
     ]
    },
    {
     "data": {
      "text/html": [
       "<div><iframe src=\"https://279ab9b621df636972.gradio.live\" width=\"100%\" height=\"500\" allow=\"autoplay; camera; microphone; clipboard-read; clipboard-write;\" frameborder=\"0\" allowfullscreen></iframe></div>"
      ],
      "text/plain": [
       "<IPython.core.display.HTML object>"
      ]
     },
     "metadata": {},
     "output_type": "display_data"
    },
    {
     "data": {
      "text/plain": []
     },
     "execution_count": 24,
     "metadata": {},
     "output_type": "execute_result"
    }
   ],
   "source": [
    "iface.launch(share=True)"
   ]
  },
  {
   "cell_type": "code",
   "execution_count": 22,
   "metadata": {},
   "outputs": [
    {
     "name": "stdout",
     "output_type": "stream",
     "text": [
      "Closing server running on port: 7860\n"
     ]
    }
   ],
   "source": [
    "iface.close()"
   ]
  },
  {
   "cell_type": "code",
   "execution_count": null,
   "metadata": {},
   "outputs": [],
   "source": []
  }
 ],
 "metadata": {
  "kernelspec": {
   "display_name": "stable",
   "language": "python",
   "name": "python3"
  },
  "language_info": {
   "codemirror_mode": {
    "name": "ipython",
    "version": 3
   },
   "file_extension": ".py",
   "mimetype": "text/x-python",
   "name": "python",
   "nbconvert_exporter": "python",
   "pygments_lexer": "ipython3",
   "version": "3.9.18"
  }
 },
 "nbformat": 4,
 "nbformat_minor": 2
}
